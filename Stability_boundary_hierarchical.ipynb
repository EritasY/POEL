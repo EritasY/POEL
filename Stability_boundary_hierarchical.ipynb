{
 "cells": [
  {
   "cell_type": "code",
   "execution_count": 1,
   "id": "f1925b04",
   "metadata": {},
   "outputs": [],
   "source": [
    "import pandas as pd\n",
    "import numpy as np\n",
    "import rebound\n",
    "import matplotlib.pyplot as plt\n",
    "from matplotlib import colors\n",
    "from rebound.interruptible_pool import InterruptiblePool\n",
    "import scipy.optimize as opt\n",
    "import cmath\n",
    "from scipy.optimize import minimize_scalar\n",
    "plt.style.use('paper.mplstyle')"
   ]
  },
  {
   "cell_type": "code",
   "execution_count": 2,
   "id": "138ad90c",
   "metadata": {},
   "outputs": [],
   "source": [
    "%run helper_function.ipynb"
   ]
  },
  {
   "cell_type": "code",
   "execution_count": 3,
   "id": "661c873f",
   "metadata": {},
   "outputs": [],
   "source": [
    "# Eq.(14) in Hadden (2018) is a better approximation at low ecc\n",
    "def calcBoundary(mass,te12):\n",
    "    func = lambda a : np.abs(0.72*np.exp(-1.4*mass**(1/3)*(a/(a-1))**(4/3)) - te12)\n",
    "    res = minimize_scalar(func,bounds=[1.001,3])\n",
    "    return 1/res.x   # alpha12 at the stability boundary"
   ]
  },
  {
   "cell_type": "code",
   "execution_count": 4,
   "id": "90260877",
   "metadata": {},
   "outputs": [],
   "source": [
    "# see thesis Appendix D\n",
    "def breathingON(mass, alpha, A1_off):\n",
    "    chi12, chi23 = calcChi(mass,alpha)\n",
    "    if chi12 > 1/2:\n",
    "        phi = np.arccos((1-2*chi12)/(2*chi12))\n",
    "    else:\n",
    "        phi = np.arccos(-(1-2*chi12)/(2*chi12))\n",
    "    A2_on = A1_off/np.sqrt(chi12)\n",
    "    A1_on = np.sqrt(chi12)*A1_off\n",
    "    return A1_on, A2_on, phi"
   ]
  },
  {
   "cell_type": "code",
   "execution_count": 5,
   "id": "58ecb157",
   "metadata": {},
   "outputs": [],
   "source": [
    "# calculate the closest j-k:j resonance\n",
    "def closest(num, arr):\n",
    "    index = 0\n",
    "    curr = arr[0]\n",
    "    for i, value in enumerate(arr):\n",
    "        if abs(num-value) < abs(num-curr):\n",
    "            curr = value\n",
    "            index = i\n",
    "    return index\n",
    "\n",
    "def calcParam(alpha12):\n",
    "    P_ratio = alpha12**(3/2)\n",
    "    true_ratio = [(j-k)/j for j in np.arange(4,15) for k in np.arange(1,3)]\n",
    "    ref = [[j,k] for j in np.arange(4,15) for k in np.arange(1,3)]\n",
    "    index = closest(P_ratio, true_ratio)\n",
    "    return ref[index]"
   ]
  },
  {
   "cell_type": "code",
   "execution_count": 6,
   "id": "77e5ec16",
   "metadata": {},
   "outputs": [],
   "source": [
    "MASS = 1e-5, 1e-15, 1e-5\n",
    "timescale = 1e5\n",
    "f = 0.1  # percentage of orbit-crossing value"
   ]
  },
  {
   "cell_type": "code",
   "execution_count": 7,
   "id": "f1b1f00d",
   "metadata": {},
   "outputs": [
    {
     "name": "stdout",
     "output_type": "stream",
     "text": [
      "The 2-planet boundary is at $\\alpha_12$ = 0.9565413518260082\n"
     ]
    }
   ],
   "source": [
    "print(rf\"The 2-planet boundary is at $\\alpha_{12}$ = {calcBoundary(MASS[0],f)}\")"
   ]
  },
  {
   "cell_type": "code",
   "execution_count": 8,
   "id": "ba165c12",
   "metadata": {},
   "outputs": [],
   "source": [
    "# 2-planet\n",
    "def sim2Planet(alpha12):\n",
    "    mu1, mu2 = MASS[0], MASS[1]\n",
    "    P1, P2 = 1, alpha12**(-3/2)\n",
    "    ecc1, ecc2 = 0, f*(1-alpha12)/alpha12\n",
    "    \n",
    "    # start simulation\n",
    "    sim = rebound.Simulation()\n",
    "    sim.units = ('yr', 'AU', 'Msun')\n",
    "\n",
    "    # add star, planet 1, planet 2\n",
    "    sim.add(m=1.)\n",
    "    sim.add(m=mu1, P=P1)\n",
    "    sim.add(m=mu2, P=P2, e=f*(1-alpha12)/alpha12, pomega=0, l=0)\n",
    "    ps = sim.particles\n",
    "    ps[1].r = ps[1].a*(ps[1].m/3/ps[0].m)**(1/3)\n",
    "    ps[2].r = ps[2].a*(ps[2].m/3/ps[0].m)**(1/3)\n",
    "\n",
    "    sim.move_to_com()\n",
    "    sim.integrator = \"whfast\"\n",
    "    sim.ri_whfast.safe_mode = 0\n",
    "    sim.dt = sim.particles[1].P/12\n",
    "    sim.collision = \"direct\"\n",
    "    \n",
    "    sim.init_megno()\n",
    "    Nout = 2000\n",
    "    times = np.linspace(0,timescale, Nout)\n",
    "    for i, time in enumerate(times):\n",
    "        try:\n",
    "            sim.integrate(time)\n",
    "        except rebound.Collision:\n",
    "            return 4000\n",
    "    return sim.calculate_megno()"
   ]
  },
  {
   "cell_type": "code",
   "execution_count": 9,
   "id": "0ff9a3a9",
   "metadata": {},
   "outputs": [],
   "source": [
    "# 3-planet\n",
    "def simNoBreathing(alpha):\n",
    "    alpha12, alpha23 = alpha\n",
    "    ecc_nb, pomega_nb = AtoE(alpha, MASS, (f*(1-alpha12)/alpha12, 0, 0), (0, 0, 0))\n",
    "    j, k = calcParam(alpha12)[0], calcParam(alpha12)[1]\n",
    "    Lambda = 1, (k*(pomega_nb[1]-pomega_nb[0]) + np.pi + (j-k))/j, 0   # start the system at phi=0, see Rath at al. (2022)\n",
    "    sim = make_sim(alpha, MASS, ecc_nb, pomega_nb, Lambda)\n",
    "    \n",
    "    sim.init_megno()\n",
    "    Nout = 2000\n",
    "    times = np.linspace(0,timescale, Nout)\n",
    "    for i, time in enumerate(times):\n",
    "        try:\n",
    "            sim.integrate(time)\n",
    "        except rebound.Collision:\n",
    "            return 4000\n",
    "    return sim.calculate_megno()"
   ]
  },
  {
   "cell_type": "code",
   "execution_count": 10,
   "id": "c31d1647",
   "metadata": {},
   "outputs": [],
   "source": [
    "def simWithBreathing(alpha):\n",
    "    alpha12, alpha23 = alpha\n",
    "    amp1_wb, amp2_wb, phi = breathingON(MASS, alpha,f*(1-alpha12)/alpha12)\n",
    "    ecc_wb, pomega_wb = AtoE(alpha, MASS, (amp1_wb, amp2_wb, 0), (0, phi, 0))\n",
    "    j, k = calcParam(alpha12)[0], calcParam(alpha12)[1]\n",
    "    Lambda = 1, (k*(pomega_wb[1]-pomega_wb[0]) + np.pi + (j-k))/j, 0\n",
    "    sim = make_sim(alpha, MASS, ecc_wb, pomega_wb, Lambda)\n",
    "        \n",
    "    sim.init_megno()\n",
    "    Nout = 2000\n",
    "    times = np.linspace(0,timescale, Nout)\n",
    "    for i, time in enumerate(times):\n",
    "        try:\n",
    "            sim.integrate(time)\n",
    "        except rebound.Collision:\n",
    "            return 4000\n",
    "    return sim.calculate_megno()"
   ]
  },
  {
   "cell_type": "code",
   "execution_count": 11,
   "id": "f08e1e1d",
   "metadata": {},
   "outputs": [],
   "source": [
    "Ngrid_x = 500\n",
    "Ngrid_y = 1\n",
    "\n",
    "alpha12 = np.linspace(0.7,0.9,Ngrid_x)\n",
    "alpha23 = np.linspace(0.5,0.5,Ngrid_y)\n",
    "parameters = [[x,y] for x in alpha12 for y in alpha23]\n",
    "\n",
    "pool = InterruptiblePool()\n",
    "megno_2p = pool.map(sim2Planet,alpha12)\n",
    "megno_3p = pool.map(simNoBreathing,parameters)"
   ]
  },
  {
   "cell_type": "code",
   "execution_count": 12,
   "id": "10855a18",
   "metadata": {},
   "outputs": [],
   "source": [
    "# rescale the elements in MEGNO to 0 if regular and 1 if chaotic\n",
    "def rescale(data):\n",
    "    data_rescaled = np.zeros(len(data))\n",
    "    for i, x in enumerate(data):\n",
    "        if x<1.8 or x>2.2:\n",
    "            data_rescaled[i] = 1\n",
    "        else:\n",
    "            data_rescaled[i] = 0\n",
    "    return data_rescaled\n",
    "\n",
    "# average smoothing\n",
    "def process(data,stepsize):\n",
    "    data_smoothed = np.zeros(len(data))\n",
    "    for i in range(len(data)):\n",
    "        if i < stepsize:\n",
    "            avg = np.mean(data[0:i+stepsize+1])\n",
    "        elif i > len(data)-stepsize-1:\n",
    "            avg = np.mean(data[i-stepsize:])\n",
    "        else:\n",
    "            avg = np.mean(data[i-stepsize:i+stepsize+1])\n",
    "        data_smoothed[i] = avg\n",
    "    return data_smoothed\n",
    "\n",
    "def smooth(data,stepsize,repeat):\n",
    "    result = data[:]\n",
    "    for i in range(repeat):\n",
    "        step = round(stepsize / 2**i)\n",
    "        result = process(result,step)\n",
    "    return result"
   ]
  },
  {
   "cell_type": "code",
   "execution_count": 13,
   "id": "d88ef49d",
   "metadata": {},
   "outputs": [
    {
     "data": {
      "text/plain": [
       "[<matplotlib.lines.Line2D at 0x7f6bb7cf5810>]"
      ]
     },
     "execution_count": 13,
     "metadata": {},
     "output_type": "execute_result"
    },
    {
     "data": {
      "image/png": "[encoded data removed]",
      "text/plain": [
       "<Figure size 600x600 with 1 Axes>"
      ]
     },
     "metadata": {},
     "output_type": "display_data"
    }
   ],
   "source": [
    "data_2p = rescale(megno_2p)\n",
    "density2p = smooth(data_2p, 20, 5)\n",
    "\n",
    "data_3p = rescale(megno_3p)\n",
    "density3p = smooth(data_3p, 20, 5)\n",
    "\n",
    "fig, ax = plt.subplots()\n",
    "ax.plot(alpha12, density2p, color='blue')\n",
    "ax.plot(alpha12, density3p, color='orange')"
   ]
  }
 ],
 "metadata": {
  "kernelspec": {
   "display_name": "Python 3 (ipykernel)",
   "language": "python",
   "name": "python3"
  },
  "language_info": {
   "codemirror_mode": {
    "name": "ipython",
    "version": 3
   },
   "file_extension": ".py",
   "mimetype": "text/x-python",
   "name": "python",
   "nbconvert_exporter": "python",
   "pygments_lexer": "ipython3",
   "version": "3.10.11"
  }
 },
 "nbformat": 4,
 "nbformat_minor": 5
}
