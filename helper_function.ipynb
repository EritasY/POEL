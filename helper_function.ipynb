{
 "cells": [
  {
   "cell_type": "code",
   "execution_count": null,
   "id": "0659441d",
   "metadata": {},
   "outputs": [],
   "source": [
    "import rebound\n",
    "import numpy as np\n",
    "from numpy.linalg import eig\n",
    "import pandas as pd\n",
    "import matplotlib.pyplot as plt\n",
    "%matplotlib inline\n",
    "from celmech.nbody_simulation_utilities import set_time_step,align_simulation\n",
    "from celmech.nbody_simulation_utilities import get_simarchive_integration_results\n",
    "from celmech.secular import LaplaceLagrangeSystem\n",
    "from celmech.poincare import Poincare\n",
    "from celmech.disturbing_function import laplace_b as b\n",
    "from scipy.optimize import fsolve\n",
    "import cmath"
   ]
  },
  {
   "cell_type": "markdown",
   "id": "ca94fede",
   "metadata": {},
   "source": [
    "# Mapping eigenmodes and eccentricity vectors"
   ]
  },
  {
   "cell_type": "code",
   "execution_count": null,
   "id": "f99d8a0a",
   "metadata": {},
   "outputs": [],
   "source": [
    "def calcChi(mass,alpha):\n",
    "    m1, m2, m3 = mass\n",
    "    m_tot = m1+m2+m3\n",
    "    mu1, mu2, mu3 = m1/m_tot, m2/m_tot, m3/m_tot\n",
    "    \n",
    "    alpha12, alpha23 = alpha\n",
    "    alpha13 = alpha12*alpha23\n",
    "    ec12 = alpha12**(-1/4)*alpha23**(3/4)*alpha23**(-1/8)*(1-alpha12)\n",
    "    ec23 = alpha23**(-1/2)*alpha12**(1/8)*(1-alpha23)\n",
    "    ec13 = alpha13**(-1/2)*(1-alpha13)\n",
    "    eta = (ec12 - ec23)/ec13\n",
    "    \n",
    "    chi12, chi23 = (1-eta)**3*(3+eta)*mu1, (1+eta)**3*(3-eta)*mu3\n",
    "    return chi12/(chi12+chi23), chi23/(chi12+chi23)"
   ]
  },
  {
   "cell_type": "code",
   "execution_count": null,
   "id": "49b0fa40",
   "metadata": {},
   "outputs": [],
   "source": [
    "def getT(mass, alpha):\n",
    "    m1, m2, m3 = mass\n",
    "    m_tot = m1+m2+m3\n",
    "    mu1, mu2, mu3 = m1/m_tot, m2/m_tot, m3/m_tot\n",
    "    \n",
    "    chi12, chi23 = calcChi(mass,alpha)\n",
    "    T = np.array([[chi12, -1, chi23],\n",
    "                 [-1, 0, 1],\n",
    "                 [mu1, mu2, mu3]])\n",
    "    return T"
   ]
  },
  {
   "cell_type": "code",
   "execution_count": null,
   "id": "31767eb5",
   "metadata": {},
   "outputs": [],
   "source": [
    "def AtoE(alpha, mass, amp, phi):\n",
    "    A1, A2, A3 = amp\n",
    "    p1, p2, p3 = phi\n",
    "    \n",
    "    invT = np.linalg.inv(getT(mass, alpha))\n",
    "    A_vec = np.array([[A1*cmath.exp(1j*p1)], [A2*cmath.exp(1j*p2)], [A3*cmath.exp(1j*p3)]])\n",
    "    e_vec = invT @ A_vec\n",
    "    \n",
    "    e1, e2, e3 = np.abs(e_vec[0][0]), np.abs(e_vec[1][0]), np.abs(e_vec[2][0])\n",
    "    pom1, pom2, pom3 = cmath.phase(e_vec[0][0]), cmath.phase(e_vec[1][0]), cmath.phase(e_vec[2][0])\n",
    "    \n",
    "    return (e1, e2, e3), (pom1, pom2, pom3)\n",
    "\n",
    "def EtoA(alpha, mass, ecc, pomega):\n",
    "    e1, e2, e3 = ecc\n",
    "    pom1, pom2, pom3 = pomega\n",
    "    \n",
    "    T = getT(mass, alpha)\n",
    "    e_vec = np.array([[e1*cmath.exp(1j*pom1)], [e2*cmath.exp(1j*pom2)], [e3*cmath.exp(1j*pom3)]])\n",
    "    A_vec = T @ e_vec\n",
    "    \n",
    "    amp1, amp2, amp3 = np.abs(A_vec[0][0]), np.abs(A_vec[1][0]), np.abs(A_vec[2][0])\n",
    "    phi1, phi2, phi3 = cmath.phase(A_vec[0][0]), cmath.phase(A_vec[1][0]), cmath.phase(A_vec[2][0])\n",
    "    \n",
    "    return amp1, amp2, amp3, phi1, phi2, phi3"
   ]
  },
  {
   "cell_type": "markdown",
   "id": "797539b5",
   "metadata": {},
   "source": [
    "# Make and run simulation"
   ]
  },
  {
   "cell_type": "code",
   "execution_count": null,
   "id": "e4c647b7",
   "metadata": {},
   "outputs": [],
   "source": [
    "def make_sim(alpha, mass, ecc, pom, Lambda):\n",
    "    mu1, mu2, mu3 = mass\n",
    "    alpha12, alpha23 = alpha\n",
    "    P1, P2, P3 = alpha12**(3/2), 1, (alpha23)**(-3/2)\n",
    "    ecc1, ecc2, ecc3 = ecc\n",
    "    pomega1, pomega2, pomega3 = pom\n",
    "    l1, l2, l3 = Lambda\n",
    "    \n",
    "    # start simulation\n",
    "    sim = rebound.Simulation()\n",
    "    sim.units = ('yr', 'AU', 'Msun')\n",
    "\n",
    "    # add star, planet 1, planet 2\n",
    "    sim.add(m=1.)\n",
    "    sim.add(m=mu1, P=P1, e=ecc1, pomega=pomega1, l=l1)\n",
    "    sim.add(m=mu2, P=P2, e=ecc2, pomega=pomega2, l=l2)\n",
    "    sim.add(m=mu3, P=P3, e=ecc3, pomega=pomega3, l=l3)\n",
    "    ps = sim.particles\n",
    "    ps[1].r = ps[1].a*(ps[1].m/3/ps[0].m)**(1/3)\n",
    "    ps[2].r = ps[2].a*(ps[2].m/3/ps[0].m)**(1/3)\n",
    "\n",
    "    sim.move_to_com()\n",
    "    sim.integrator = \"whfast\"\n",
    "    sim.ri_whfast.safe_mode = 0\n",
    "    sim.dt = sim.particles[1].P/12\n",
    "    sim.collision = \"direct\"\n",
    "    \n",
    "    return sim"
   ]
  },
  {
   "cell_type": "code",
   "execution_count": null,
   "id": "1d6d685e",
   "metadata": {},
   "outputs": [],
   "source": [
    "def run(sim):\n",
    "    ps = sim.particles\n",
    "    \n",
    "    ec13 = 1-ps[1].a/ps[3].a\n",
    "    m1, m2, m3 = ps[1].m, ps[2].m, ps[3].m\n",
    "    m_tot = m1 + m2 + m3\n",
    "    mu1, mu2, mu3 = m1/m_tot, m2/m_tot, m3/m_tot\n",
    "    Tsec = 2*np.pi/(1/2*m_tot/ps[0].m/ec13**2)*ps[1].P\n",
    "#     print(Tsec)\n",
    "    \n",
    "    chi12, chi23 = calcChi((m1,m2,m3),(ps[1].a/ps[2].a, ps[2].a/ps[3].a))\n",
    "    \n",
    "    Nout = 1000\n",
    "    times = np.linspace(0,2*Tsec, Nout)\n",
    "    e1, e2, e3, e12, e23, question = np.zeros(Nout), np.zeros(Nout), np.zeros(Nout), np.zeros(Nout), np.zeros(Nout), np.zeros(Nout)\n",
    "    for i, time in enumerate(times):\n",
    "        sim.integrate(time)    \n",
    "        e1x, e2x, e3x = [p.e*np.cos(p.pomega) for p in ps[1:]]\n",
    "        e1y, e2y, e3y = [p.e*np.sin(p.pomega) for p in ps[1:]]\n",
    "        \n",
    "        S1ax, S1ay = chi23*(e3x-e2x)-chi12*(e2x-e1x), chi23*(e3y-e2y)-chi12*(e2y-e1y)       \n",
    "        S2ax, S2ay = e3x-e1x, e3y-e1y\n",
    "        S3ax, S3ay = (mu1*e1x+mu2*e2x+mu3*e3x), (mu1*e1y+mu2*e2y+mu3*e3y)\n",
    "        \n",
    "        e1[i] = np.sqrt(e1x**2+e1y**2)\n",
    "        e2[i] = np.sqrt(e2x**2+e2y**2)\n",
    "        e3[i] = np.sqrt(e3x**2+e3y**2)\n",
    "        \n",
    "        e12[i] = np.sqrt((e2x-e1x)**2+(e2y-e1y)**2)\n",
    "        e23[i] = np.sqrt((e3x-e2x)**2+(e3y-e2y)**2)\n",
    "        fac = 1/2*((chi23-chi12)-(mu3-mu1))\n",
    "        question[i] = np.sqrt((S3ax-S1ax+fac*S2ax)**2+(S3ay-S1ay+fac*S2ay)**2)\n",
    "     \n",
    "    return times, e1, e2, e3, e12, e23, question"
   ]
  }
 ],
 "metadata": {
  "kernelspec": {
   "display_name": "Python 3 (ipykernel)",
   "language": "python",
   "name": "python3"
  },
  "language_info": {
   "codemirror_mode": {
    "name": "ipython",
    "version": 3
   },
   "file_extension": ".py",
   "mimetype": "text/x-python",
   "name": "python",
   "nbconvert_exporter": "python",
   "pygments_lexer": "ipython3",
   "version": "3.10.11"
  }
 },
 "nbformat": 4,
 "nbformat_minor": 5
}
